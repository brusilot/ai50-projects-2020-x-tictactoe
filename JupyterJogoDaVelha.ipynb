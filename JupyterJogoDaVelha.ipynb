{
 "cells": [
  {
   "cell_type": "code",
   "execution_count": 7,
   "metadata": {},
   "outputs": [],
   "source": [
    "\"\"\"\n",
    "Tic Tac Toe Player\n",
    "\"\"\"\n",
    "\n",
    "import math\n",
    "\n",
    "X = \"X\"\n",
    "O = \"O\"\n",
    "EMPTY = None\n",
    "\n",
    "\n",
    "def initial_state():\n",
    "    \"\"\"\n",
    "    Returns starting state of the board.\n",
    "    \"\"\"\n",
    "    return [[EMPTY, EMPTY, EMPTY],\n",
    "            [EMPTY, EMPTY, EMPTY],\n",
    "            [EMPTY, EMPTY, EMPTY]]\n",
    "\n",
    "\n",
    "def player(board):\n",
    "    \"\"\"\n",
    "    Returns player who has the next turn on a board.\n",
    "    \"\"\"\n",
    "    raise NotImplementedError\n",
    "\n",
    "\n",
    "def actions(board):\n",
    "    \"\"\"\n",
    "    Returns set of all possible actions (i, j) available on the board.\n",
    "    \"\"\"\n",
    "    raise NotImplementedError\n",
    "\n",
    "\n",
    "def result(board, action):\n",
    "    \"\"\"\n",
    "    Returns the board that results from making move (i, j) on the board.\n",
    "    \"\"\"\n",
    "    raise NotImplementedError\n",
    "\n",
    "\n",
    "def winner(board):\n",
    "    \"\"\"\n",
    "    Returns the winner of the game, if there is one.\n",
    "    \"\"\"\n",
    "    raise NotImplementedError\n",
    "\n",
    "\n",
    "def terminal(board):\n",
    "    \"\"\"\n",
    "    Returns True if game is over, False otherwise.\n",
    "    \"\"\"\n",
    "    raise NotImplementedError\n",
    "\n",
    "\n",
    "def utility(board):\n",
    "    \"\"\"\n",
    "    Returns 1 if X has won the game, -1 if O has won, 0 otherwise.\n",
    "    \"\"\"\n",
    "    raise NotImplementedError\n",
    "\n",
    "\n",
    "def minimax(board):\n",
    "    \"\"\"\n",
    "    Returns the optimal action for the current player on the board.\n",
    "    \"\"\"\n",
    "    raise NotImplementedError\n"
   ]
  },
  {
   "cell_type": "markdown",
   "metadata": {},
   "source": [
    "# Parte do Player"
   ]
  },
  {
   "cell_type": "markdown",
   "metadata": {},
   "source": [
    " The player function should take a board state as input, and return which player’s turn it is (either X or O).\n",
    "\n",
    "    In the initial game state, X gets the first move. Subsequently, the player alternates with each additional move.\n",
    "    Any return value is acceptable if a terminal board is provided as input (i.e., the game is already over).\n"
   ]
  },
  {
   "cell_type": "code",
   "execution_count": 1,
   "metadata": {},
   "outputs": [],
   "source": [
    "\"\"\"\n",
    "Tic Tac Toe Player\n",
    "\"\"\"\n",
    "\n",
    "import math\n",
    "\n",
    "X = \"X\"\n",
    "O = \"O\"\n",
    "EMPTY = None\n",
    "\n",
    "\n",
    "def initial_state():\n",
    "    \"\"\"\n",
    "    Returns starting state of the board.\n",
    "    \"\"\"\n",
    "    return [[EMPTY, EMPTY, EMPTY],\n",
    "            [EMPTY, EMPTY, EMPTY],\n",
    "            [EMPTY, EMPTY, EMPTY]]"
   ]
  },
  {
   "cell_type": "code",
   "execution_count": 2,
   "metadata": {},
   "outputs": [],
   "source": [
    "def player(board):\n",
    "    \"\"\"\n",
    "    Returns player who has the next turn on a board.\n",
    "    \"\"\"\n",
    "    #flat board\n",
    "    flat_board = [i for x in board for i in x]\n",
    "    \n",
    "    if flat_board.count(O) >= flat_board.count(X):\n",
    "        return X\n",
    "    else:\n",
    "        return O"
   ]
  },
  {
   "cell_type": "code",
   "execution_count": 3,
   "metadata": {},
   "outputs": [],
   "source": [
    "board = initial_state()"
   ]
  },
  {
   "cell_type": "code",
   "execution_count": 58,
   "metadata": {},
   "outputs": [
    {
     "name": "stdout",
     "output_type": "stream",
     "text": [
      "X\n"
     ]
    }
   ],
   "source": [
    "tabuleiro = player(board)\n",
    "print(tabuleiro)"
   ]
  },
  {
   "cell_type": "code",
   "execution_count": 57,
   "metadata": {},
   "outputs": [],
   "source": [
    "board = [[EMPTY, EMPTY, O],\n",
    "            [X, EMPTY, EMPTY],\n",
    "            [EMPTY, O, X]]\n",
    "\n",
    "#flat board\n",
    "flat_board = [i for x in board for i in x]"
   ]
  },
  {
   "cell_type": "code",
   "execution_count": 46,
   "metadata": {},
   "outputs": [
    {
     "name": "stdout",
     "output_type": "stream",
     "text": [
      "[[None, None, None], [None, None, None], [None, None, None]]\n"
     ]
    }
   ],
   "source": [
    "print(board)"
   ]
  },
  {
   "cell_type": "code",
   "execution_count": 47,
   "metadata": {},
   "outputs": [
    {
     "data": {
      "text/plain": [
       "0"
      ]
     },
     "execution_count": 47,
     "metadata": {},
     "output_type": "execute_result"
    }
   ],
   "source": [
    "flat_board.count(O)\n"
   ]
  },
  {
   "cell_type": "code",
   "execution_count": 48,
   "metadata": {},
   "outputs": [
    {
     "data": {
      "text/plain": [
       "0"
      ]
     },
     "execution_count": 48,
     "metadata": {},
     "output_type": "execute_result"
    }
   ],
   "source": [
    "flat_board.count(X)"
   ]
  },
  {
   "cell_type": "code",
   "execution_count": 30,
   "metadata": {},
   "outputs": [
    {
     "name": "stdout",
     "output_type": "stream",
     "text": [
      "2\n"
     ]
    }
   ],
   "source": [
    "print(board[1].count(X))"
   ]
  },
  {
   "cell_type": "code",
   "execution_count": 31,
   "metadata": {},
   "outputs": [
    {
     "name": "stdout",
     "output_type": "stream",
     "text": [
      "[None, None, None, 'X', 'X', 'O', None, None, None]\n"
     ]
    }
   ],
   "source": [
    "flat_board = [i for x in board for i in x]\n",
    "print(flat_board)"
   ]
  },
  {
   "cell_type": "markdown",
   "metadata": {},
   "source": [
    "# Actions "
   ]
  },
  {
   "cell_type": "markdown",
   "metadata": {},
   "source": [
    "The actions function should return a set of all of the possible actions that can be taken on a given board.\n",
    "\n",
    "    Each action should be represented as a tuple (i, j) where i corresponds to the row of the move (0, 1, or 2) and j corresponds to which cell in the row corresponds to the move (also 0, 1, or 2).\n",
    "    Possible moves are any cells on the board that do not already have an X or an O in them.\n",
    "    Any return value is acceptable if a terminal board is provided as input.\n"
   ]
  },
  {
   "cell_type": "code",
   "execution_count": 4,
   "metadata": {},
   "outputs": [],
   "source": [
    "def actions(board):\n",
    "    \"\"\"\n",
    "    Returns set of all possible actions (i, j) available on the board.\n",
    "    \"\"\"\n",
    "    action = []\n",
    "    i = 0\n",
    "    j = 0\n",
    "\n",
    "    for i in (range(len(board))):\n",
    "        for j in range(len(board[i])):\n",
    "            if board[i][j] == EMPTY:\n",
    "                action.append([i,j])\n",
    "            j += 1\n",
    "        i += 1\n",
    "    return action"
   ]
  },
  {
   "cell_type": "code",
   "execution_count": 59,
   "metadata": {},
   "outputs": [],
   "source": [
    "action = []"
   ]
  },
  {
   "cell_type": "code",
   "execution_count": null,
   "metadata": {},
   "outputs": [],
   "source": [
    "for i >= j"
   ]
  },
  {
   "cell_type": "code",
   "execution_count": 64,
   "metadata": {},
   "outputs": [
    {
     "data": {
      "text/plain": [
       "3"
      ]
     },
     "execution_count": 64,
     "metadata": {},
     "output_type": "execute_result"
    }
   ],
   "source": [
    "len(board)\n",
    "len(board[0])"
   ]
  },
  {
   "cell_type": "code",
   "execution_count": 92,
   "metadata": {},
   "outputs": [
    {
     "name": "stdout",
     "output_type": "stream",
     "text": [
      "0\n",
      "0\n",
      "1\n",
      "2\n",
      "1\n",
      "0\n",
      "1\n",
      "2\n",
      "2\n",
      "0\n",
      "1\n",
      "2\n"
     ]
    }
   ],
   "source": [
    "i = 0\n",
    "j = 0\n",
    "\n",
    "for i in (range(len(board))):\n",
    "    print(i)\n",
    "    for j in range(len(board[i])):\n",
    "        print(j)\n",
    "        if board[i][j] == EMPTY:\n",
    "            action.append([i,j])\n",
    "        j += 1\n",
    "    i += 1"
   ]
  },
  {
   "cell_type": "code",
   "execution_count": 93,
   "metadata": {},
   "outputs": [
    {
     "name": "stdout",
     "output_type": "stream",
     "text": [
      "[[0, 0], [1, 1], [0, 0], [1, 1], [0, 0], [1, 1], [0, 0], [1, 1], [0, 0], [1, 1], [1, 1], [0, 0], [1, 1], [0, 0], [1, 1], [0, 0], [0, 1], [1, 1], [1, 2], [2, 0]]\n"
     ]
    }
   ],
   "source": [
    "print(action)\n"
   ]
  },
  {
   "cell_type": "code",
   "execution_count": 91,
   "metadata": {},
   "outputs": [
    {
     "name": "stdout",
     "output_type": "stream",
     "text": [
      "None\n"
     ]
    }
   ],
   "source": [
    "print(board[2][0])"
   ]
  },
  {
   "cell_type": "code",
   "execution_count": 97,
   "metadata": {},
   "outputs": [
    {
     "data": {
      "text/plain": [
       "[[0, 0], [0, 1], [1, 1], [1, 2], [2, 0]]"
      ]
     },
     "execution_count": 97,
     "metadata": {},
     "output_type": "execute_result"
    }
   ],
   "source": [
    "actions(board)"
   ]
  },
  {
   "cell_type": "code",
   "execution_count": 98,
   "metadata": {},
   "outputs": [
    {
     "name": "stdout",
     "output_type": "stream",
     "text": [
      "[[None, None, 'O'], ['X', None, None], [None, 'O', 'X']]\n"
     ]
    }
   ],
   "source": [
    "print(board)"
   ]
  },
  {
   "cell_type": "markdown",
   "metadata": {},
   "source": [
    "# Result"
   ]
  },
  {
   "cell_type": "markdown",
   "metadata": {},
   "source": [
    "The result function takes a board and an action as input, and should return a new board state, without modifying the original board.\n",
    "\n",
    "    If action is not a valid action for the board, your program should raise an exception.\n",
    "    The returned board state should be the board that would result from taking the original input board, and letting the player whose turn it is make their move at the cell indicated by the input action.\n",
    "    Importantly, the original board should be left unmodified: since Minimax will ultimately require considering many different board states during its computation. This means that simply updating a cell in board itself is not a correct implementation of the result function. You’ll likely want to make a deep copy of the board first before making any changes.\n"
   ]
  },
  {
   "cell_type": "code",
   "execution_count": 5,
   "metadata": {},
   "outputs": [],
   "source": [
    "def result(board, action):\n",
    "    \"\"\"\n",
    "    Returns the board that results from making move (i, j) on the board.\n",
    "    \"\"\"\n",
    "    i = action[0]\n",
    "    j = action [1]\n",
    "    \n",
    "    if board[i][j] != EMPTY:\n",
    "        raise Exception(\"Movimento inválido\")\n",
    "        \n",
    "    new_board = copy(board)\n",
    "    new_board[i][j] = player(board)\n",
    "    return new_board"
   ]
  },
  {
   "cell_type": "code",
   "execution_count": 6,
   "metadata": {},
   "outputs": [],
   "source": [
    "def copy(board):\n",
    "    new_board =[]\n",
    "\n",
    "    i = 0\n",
    "    j = 0\n",
    "\n",
    "    for i in (range(len(board))):\n",
    "        linha = []\n",
    "        for j in range(len(board[i])):\n",
    "            linha.append(board[i][j])\n",
    "            j += 1\n",
    "        new_board.append(linha)\n",
    "        i += 1\n",
    "    \n",
    "    return  new_board"
   ]
  },
  {
   "cell_type": "markdown",
   "metadata": {},
   "source": [
    "##### RASCUNHOS"
   ]
  },
  {
   "cell_type": "code",
   "execution_count": null,
   "metadata": {},
   "outputs": [],
   "source": [
    "if board[i][j] != EMPTY\n",
    "    raise Exception(\"Movimento inválido\")"
   ]
  },
  {
   "cell_type": "code",
   "execution_count": 102,
   "metadata": {},
   "outputs": [],
   "source": [
    "if board[2][0] != EMPTY:\n",
    "    raise Exception(\"Movimento inválido\")"
   ]
  },
  {
   "cell_type": "code",
   "execution_count": 140,
   "metadata": {},
   "outputs": [
    {
     "name": "stdout",
     "output_type": "stream",
     "text": [
      "i = 0 j = 0\n"
     ]
    }
   ],
   "source": [
    "action = [0,0]\n",
    "i = action[0]\n",
    "j = action [1]\n",
    "print(\"i = \" + str(i) + \" j = \"+ str(j))\n"
   ]
  },
  {
   "cell_type": "code",
   "execution_count": 193,
   "metadata": {},
   "outputs": [
    {
     "ename": "TypeError",
     "evalue": "'NoneType' object is not subscriptable",
     "output_type": "error",
     "traceback": [
      "\u001b[1;31m---------------------------------------------------------------------------\u001b[0m",
      "\u001b[1;31mTypeError\u001b[0m                                 Traceback (most recent call last)",
      "\u001b[1;32m<ipython-input-193-b614135daa5b>\u001b[0m in \u001b[0;36m<module>\u001b[1;34m\u001b[0m\n\u001b[1;32m----> 1\u001b[1;33m \u001b[0mresult\u001b[0m\u001b[1;33m(\u001b[0m\u001b[0mboard\u001b[0m\u001b[1;33m,\u001b[0m\u001b[0maction\u001b[0m\u001b[1;33m)\u001b[0m\u001b[1;33m\u001b[0m\u001b[1;33m\u001b[0m\u001b[0m\n\u001b[0m",
      "\u001b[1;32m<ipython-input-172-6ab274da4e0a>\u001b[0m in \u001b[0;36mresult\u001b[1;34m(board, action)\u001b[0m\n\u001b[0;32m     10\u001b[0m \u001b[1;33m\u001b[0m\u001b[0m\n\u001b[0;32m     11\u001b[0m     \u001b[0mnew_board\u001b[0m \u001b[1;33m=\u001b[0m \u001b[0mcopy\u001b[0m\u001b[1;33m(\u001b[0m\u001b[0mboard\u001b[0m\u001b[1;33m)\u001b[0m\u001b[1;33m\u001b[0m\u001b[1;33m\u001b[0m\u001b[0m\n\u001b[1;32m---> 12\u001b[1;33m     \u001b[0mnew_board\u001b[0m\u001b[1;33m[\u001b[0m\u001b[0mi\u001b[0m\u001b[1;33m]\u001b[0m\u001b[1;33m[\u001b[0m\u001b[0mj\u001b[0m\u001b[1;33m]\u001b[0m \u001b[1;33m=\u001b[0m \u001b[0mplayer\u001b[0m\u001b[1;33m(\u001b[0m\u001b[0mboard\u001b[0m\u001b[1;33m)\u001b[0m\u001b[1;33m\u001b[0m\u001b[1;33m\u001b[0m\u001b[0m\n\u001b[0m\u001b[0;32m     13\u001b[0m     \u001b[1;32mreturn\u001b[0m \u001b[0mnew_board\u001b[0m\u001b[1;33m\u001b[0m\u001b[1;33m\u001b[0m\u001b[0m\n",
      "\u001b[1;31mTypeError\u001b[0m: 'NoneType' object is not subscriptable"
     ]
    }
   ],
   "source": [
    "result(board,action)"
   ]
  },
  {
   "cell_type": "code",
   "execution_count": 126,
   "metadata": {},
   "outputs": [
    {
     "data": {
      "text/plain": [
       "'X'"
      ]
     },
     "execution_count": 126,
     "metadata": {},
     "output_type": "execute_result"
    }
   ],
   "source": [
    "player(board)"
   ]
  },
  {
   "cell_type": "code",
   "execution_count": 114,
   "metadata": {},
   "outputs": [],
   "source": [
    "#new_board = board\n",
    "#errado , só aponta o pointer"
   ]
  },
  {
   "cell_type": "code",
   "execution_count": 115,
   "metadata": {},
   "outputs": [],
   "source": [
    "new_board[i][j] = player(board)"
   ]
  },
  {
   "cell_type": "code",
   "execution_count": 171,
   "metadata": {
    "scrolled": true
   },
   "outputs": [
    {
     "name": "stdout",
     "output_type": "stream",
     "text": [
      "[[None, None, None], [None, None, None], [None, None, None]]\n"
     ]
    }
   ],
   "source": [
    "print(board)"
   ]
  },
  {
   "cell_type": "code",
   "execution_count": 170,
   "metadata": {},
   "outputs": [
    {
     "name": "stdout",
     "output_type": "stream",
     "text": [
      "[[None, None, None], [None, None, None], [None, None, None]]\n"
     ]
    }
   ],
   "source": [
    "print(new_board)"
   ]
  },
  {
   "cell_type": "code",
   "execution_count": 168,
   "metadata": {},
   "outputs": [
    {
     "data": {
      "text/plain": [
       "2407143189384"
      ]
     },
     "execution_count": 168,
     "metadata": {},
     "output_type": "execute_result"
    }
   ],
   "source": [
    "id(board)"
   ]
  },
  {
   "cell_type": "code",
   "execution_count": 169,
   "metadata": {},
   "outputs": [
    {
     "data": {
      "text/plain": [
       "2407144904648"
      ]
     },
     "execution_count": 169,
     "metadata": {},
     "output_type": "execute_result"
    }
   ],
   "source": [
    "id(new_board)"
   ]
  },
  {
   "cell_type": "code",
   "execution_count": 133,
   "metadata": {},
   "outputs": [],
   "source": [
    "new_board = list(list(board))"
   ]
  },
  {
   "cell_type": "code",
   "execution_count": 156,
   "metadata": {},
   "outputs": [
    {
     "ename": "NameError",
     "evalue": "name 'copy' is not defined",
     "output_type": "error",
     "traceback": [
      "\u001b[1;31m---------------------------------------------------------------------------\u001b[0m",
      "\u001b[1;31mNameError\u001b[0m                                 Traceback (most recent call last)",
      "\u001b[1;32m<ipython-input-156-52d185d6e09b>\u001b[0m in \u001b[0;36m<module>\u001b[1;34m\u001b[0m\n\u001b[1;32m----> 1\u001b[1;33m \u001b[0mnew_board\u001b[0m \u001b[1;33m=\u001b[0m \u001b[0mcopy\u001b[0m\u001b[1;33m.\u001b[0m\u001b[0mdeepcopy\u001b[0m\u001b[1;33m(\u001b[0m\u001b[0mboard\u001b[0m\u001b[1;33m)\u001b[0m\u001b[1;33m\u001b[0m\u001b[1;33m\u001b[0m\u001b[0m\n\u001b[0m",
      "\u001b[1;31mNameError\u001b[0m: name 'copy' is not defined"
     ]
    }
   ],
   "source": [
    "new_board = copy.deepcopy(board)"
   ]
  },
  {
   "cell_type": "code",
   "execution_count": 243,
   "metadata": {},
   "outputs": [
    {
     "name": "stdout",
     "output_type": "stream",
     "text": [
      "0\n",
      "0\n",
      "1\n",
      "2\n",
      "1\n",
      "0\n",
      "1\n",
      "2\n",
      "2\n",
      "0\n",
      "1\n",
      "2\n"
     ]
    }
   ],
   "source": [
    "new_board =[]\n",
    "\n",
    "i = 0\n",
    "j = 0\n",
    "\n",
    "for i in (range(len(board))):\n",
    "    print(i)\n",
    "    linha = []\n",
    "    for j in range(len(board[i])):\n",
    "        print(j)\n",
    "        linha.append(board[i][j])\n",
    "        j += 1\n",
    "    new_board.append(linha)\n",
    "    i += 1"
   ]
  },
  {
   "cell_type": "code",
   "execution_count": 254,
   "metadata": {},
   "outputs": [
    {
     "name": "stdout",
     "output_type": "stream",
     "text": [
      "[['X', None, None], [None, None, None], [None, None, None]]\n"
     ]
    }
   ],
   "source": [
    "print(new_board)"
   ]
  },
  {
   "cell_type": "code",
   "execution_count": 255,
   "metadata": {},
   "outputs": [
    {
     "name": "stdout",
     "output_type": "stream",
     "text": [
      "[[None, None, None], [None, None, None], [None, None, None]]\n"
     ]
    }
   ],
   "source": [
    "print(board)"
   ]
  },
  {
   "cell_type": "code",
   "execution_count": 248,
   "metadata": {},
   "outputs": [],
   "source": [
    "action = [0,0]"
   ]
  },
  {
   "cell_type": "markdown",
   "metadata": {},
   "source": [
    "# Winner "
   ]
  },
  {
   "cell_type": "markdown",
   "metadata": {},
   "source": [
    "The winner function should accept a board as input, and return the winner of the board if there is one.\n",
    "\n",
    "    If the X player has won the game, your function should return X. If the O player has won the game, your function should return O.\n",
    "    One can win the game with three of their moves in a row horizontally, vertically, or diagonally.\n",
    "    You may assume that there will be at most one winner (that is, no board will ever have both players with three-in-a-row, since that would be an invalid board state).\n",
    "    If there is no winner of the game (either because the game is in progress, or because it ended in a tie), the function should return None.\n"
   ]
  },
  {
   "cell_type": "code",
   "execution_count": 7,
   "metadata": {},
   "outputs": [],
   "source": [
    "def winner(board):\n",
    "    #Verify lines\n",
    "    for i in (range(len(board))):\n",
    "        if board[i][0] == board[i][1] and board[i][1] == board[i][2] and board[i][0] != EMPTY:\n",
    "            return board[i][0]\n",
    "\n",
    "    #verify column        \n",
    "    for j in (range(len(board))):\n",
    "        if board[0][j] == board[1][j] and board[1][j] == board[2][j] and board[0][j] != EMPTY:\n",
    "            return board[0][j]\n",
    "\n",
    "    #Verify Diagonal\n",
    "    if board[0][0] == board[1][1] and board[1][1] == board[2][2] and board[0][0] != EMPTY:\n",
    "        return board[0][0]\n",
    "    if board[0][2] == board[1][1] and board[1][1] == board[2][0] and board[0][2] != EMPTY:\n",
    "        return board[0][2]\n",
    "\n",
    "    return None\n"
   ]
  },
  {
   "cell_type": "code",
   "execution_count": null,
   "metadata": {},
   "outputs": [],
   "source": []
  },
  {
   "cell_type": "code",
   "execution_count": 3,
   "metadata": {},
   "outputs": [
    {
     "ename": "SyntaxError",
     "evalue": "'return' outside function (<ipython-input-3-af591fad127c>, line 4)",
     "output_type": "error",
     "traceback": [
      "\u001b[1;36m  File \u001b[1;32m\"<ipython-input-3-af591fad127c>\"\u001b[1;36m, line \u001b[1;32m4\u001b[0m\n\u001b[1;33m    return board[i][0]\u001b[0m\n\u001b[1;37m    ^\u001b[0m\n\u001b[1;31mSyntaxError\u001b[0m\u001b[1;31m:\u001b[0m 'return' outside function\n"
     ]
    }
   ],
   "source": [
    "\n",
    "#Verify lines\n",
    "for i in (range(len(board))):\n",
    "    if board[i][0] == board[i][1] and board[i][1] == board[i][2] and board[i][0] != EMPTY:\n",
    "        return board[i][0]\n",
    "\n",
    "#verify column        \n",
    "for j in (range(len(board))):\n",
    "    if board[0][j] == board[1][j] and board[1][j] == board[2][j] and board[0][j] != EMPTY:\n",
    "        return board[0][j]\n",
    "        \n",
    "#Verify Diagonal\n",
    "if board[0][0] == board[1][1] and board[1][1] == board[2][2] and board[0][0] != EMPTY:\n",
    "    return board[0][0]\n",
    "if board[0][2] == board[1][1] and board[1][1] == board[2][0] and board[0][2] != EMPTY:\n",
    "    return board[0][2]\n",
    "\n",
    "return None"
   ]
  },
  {
   "cell_type": "code",
   "execution_count": 290,
   "metadata": {},
   "outputs": [],
   "source": [
    "board[2][2] = X"
   ]
  },
  {
   "cell_type": "code",
   "execution_count": 291,
   "metadata": {},
   "outputs": [
    {
     "name": "stdout",
     "output_type": "stream",
     "text": [
      "[['X', 'X', 'O'], [None, 'X', None], [None, 'O', 'X']]\n"
     ]
    }
   ],
   "source": [
    "print(board)"
   ]
  },
  {
   "cell_type": "markdown",
   "metadata": {},
   "source": [
    "# Terminal"
   ]
  },
  {
   "cell_type": "markdown",
   "metadata": {},
   "source": [
    "The terminal function should accept a board as input, and return a boolean value indicating whether the game is over.\n",
    "\n",
    "    If the game is over, either because someone has won the game or because all cells have been filled without anyone winning, the function should return True.\n",
    "    Otherwise, the function should return False if the game is still in progress.\n",
    "\n"
   ]
  },
  {
   "cell_type": "code",
   "execution_count": 8,
   "metadata": {},
   "outputs": [],
   "source": [
    "def terminal(board):\n",
    "    \"\"\"\n",
    "    Returns True if game is over, False otherwise.\n",
    "    \"\"\"\n",
    "    #check if winner\n",
    "    if winner(board) != None:\n",
    "        return True\n",
    "    #check if tie   \n",
    "    return isTie(board)\n",
    "    "
   ]
  },
  {
   "cell_type": "code",
   "execution_count": 9,
   "metadata": {},
   "outputs": [],
   "source": [
    "def isTie(board):\n",
    "    \n",
    "    i = 0\n",
    "    j = 0\n",
    "    n = 0\n",
    "\n",
    "\n",
    "    for i in (range(len(board))):\n",
    "        for j in range(len(board[i])):\n",
    "            if board[i][j] != None:\n",
    "                n += 1\n",
    "            j += 1\n",
    "        i += 1\n",
    "\n",
    "    if n == 9 :\n",
    "        return True\n",
    "    else:\n",
    "        return False\n",
    "    "
   ]
  },
  {
   "cell_type": "code",
   "execution_count": 33,
   "metadata": {},
   "outputs": [
    {
     "data": {
      "text/plain": [
       "True"
      ]
     },
     "execution_count": 33,
     "metadata": {},
     "output_type": "execute_result"
    }
   ],
   "source": [
    "isTie(board)"
   ]
  },
  {
   "cell_type": "code",
   "execution_count": 57,
   "metadata": {},
   "outputs": [
    {
     "name": "stdout",
     "output_type": "stream",
     "text": [
      "[['X', 'O', 'X'], ['X', 'O', 'O'], ['O', 'X', 'X']]\n"
     ]
    }
   ],
   "source": [
    "print(board)"
   ]
  },
  {
   "cell_type": "code",
   "execution_count": 58,
   "metadata": {},
   "outputs": [
    {
     "name": "stdout",
     "output_type": "stream",
     "text": [
      "0\n",
      "0\n",
      "n = 1\n",
      "1\n",
      "n = 2\n",
      "2\n",
      "n = 3\n",
      "1\n",
      "0\n",
      "n = 4\n",
      "1\n",
      "n = 5\n",
      "2\n",
      "n = 6\n",
      "2\n",
      "0\n",
      "n = 7\n",
      "1\n",
      "n = 8\n",
      "2\n",
      "n = 9\n",
      "True\n"
     ]
    }
   ],
   "source": [
    "i = 0\n",
    "j = 0\n",
    "n = 0\n",
    "\n",
    "\n",
    "for i in (range(len(board))):\n",
    "    print(i)\n",
    "    for j in range(len(board[i])):\n",
    "        print(j)\n",
    "        if board[i][j] != None:\n",
    "            n += 1\n",
    "            print(\"n = \"+str(n))\n",
    "        j += 1\n",
    "    i += 1\n",
    "\n",
    "if n == 9 :\n",
    "    print(\"True\")\n",
    "else:\n",
    "    print(\"False\")"
   ]
  },
  {
   "cell_type": "code",
   "execution_count": 56,
   "metadata": {},
   "outputs": [],
   "source": [
    "board[2][2] = X"
   ]
  },
  {
   "cell_type": "markdown",
   "metadata": {},
   "source": [
    "# Utility"
   ]
  },
  {
   "cell_type": "markdown",
   "metadata": {},
   "source": [
    "The utility function should accept a terminal board as input and output the utility of the board.\n",
    "\n",
    "    If X has won the game, the utility is 1. If O has won the game, the utility is -1. If the game has ended in a tie, the utility is 0.\n",
    "    You may assume utility will only be called on a board if terminal(board) is True.\n",
    "\n"
   ]
  },
  {
   "cell_type": "code",
   "execution_count": 10,
   "metadata": {},
   "outputs": [],
   "source": [
    "def utility(board):\n",
    "    \"\"\"\n",
    "    Returns 1 if X has won the game, -1 if O has won, 0 otherwise.\n",
    "    \"\"\"\n",
    "    \n",
    "    if winner(board) == X:\n",
    "        return 1\n",
    "    \n",
    "    if winner(board) == O:\n",
    "        return -1\n",
    "    \n",
    "    if isTie(board):\n",
    "        return 0"
   ]
  },
  {
   "cell_type": "markdown",
   "metadata": {},
   "source": [
    "# Min Max"
   ]
  },
  {
   "cell_type": "markdown",
   "metadata": {},
   "source": [
    "The minimax function should take a board as input, and return the optimal move for the player to move on that board.\n",
    "\n",
    "    The move returned should be the optimal action (i, j) that is one of the allowable actions on the board. If multiple moves are equally optimal, any of those moves is acceptable.\n",
    "    If the board is a terminal board, the minimax function should return None.\n",
    "\n"
   ]
  },
  {
   "cell_type": "code",
   "execution_count": null,
   "metadata": {},
   "outputs": [],
   "source": [
    "def minimax(board):\n",
    "    \"\"\"\n",
    "    Returns the optimal action for the current player on the board.\n",
    "    \"\"\"\n",
    "    raise NotImplementedError"
   ]
  },
  {
   "cell_type": "markdown",
   "metadata": {},
   "source": [
    "# PSEUDO CODE\n",
    "\n",
    "#### Preciso verificar primeiro quem que é o player\n",
    "    chama player\n",
    "    \n",
    "#### Verificar todos os movimentos 1 possíveis\n",
    "    chama actions\n",
    "    \n",
    "#### Verifica o resultado\n",
    "    chama result\n",
    "    \n",
    "#### Verifica se algum já ganha e termina\n",
    "    chama winner\n",
    "    \n",
    "#### verifica se terminal, se for chama utility, senão chama     action?\n",
    "    \n",
    "### CRIAR Nós para fazer recursivo??\n",
    "\n",
    "#### Criar uma function min e uma max?\n",
    "    verifica próximos nós, pega o menor ou o maior?"
   ]
  },
  {
   "cell_type": "markdown",
   "metadata": {},
   "source": [
    "To put it in pseudocode, the Minimax algorithm works the following way:\n",
    "\n",
    "    Given a state s\n",
    "        The maximizing player picks action a in Actions(s) that produces the highest value of Min-Value(Result(s, a)).\n",
    "        The minimizing player picks action a in Actions(s) that produces the lowest value of Max-Value(Result(s, a)).\n",
    "\n",
    "    Function Max-Value(state)\n",
    "\n",
    "        v = -∞\n",
    "\n",
    "        if Terminal(state):\n",
    "\n",
    "        ​ return Utility(state)\n",
    "\n",
    "        for action in Actions(state):\n",
    "\n",
    "        ​ v = Max(v, Min-Value(Result(state, action)))\n",
    "\n",
    "        return v\n",
    "\n",
    "    Function Min-Value(state):\n",
    "\n",
    "        v = ∞\n",
    "\n",
    "        if Terminal(state):\n",
    "\n",
    "        ​ return Utility(state)\n",
    "\n",
    "        for action in Actions(state):\n",
    "\n",
    "        ​ v = Min(v, Max-Value(Result(state, action)))\n",
    "\n",
    "        return v\n"
   ]
  },
  {
   "cell_type": "code",
   "execution_count": 48,
   "metadata": {},
   "outputs": [],
   "source": [
    "def maxValue(board):\n",
    "    v = -float('inf')\n",
    "    if terminal(board):\n",
    "        return utility(board)\n",
    "\n",
    "    for action in actions(board):\n",
    "        v = max(v, minValue(result(board, action)))\n",
    "\n",
    "    return v\n",
    "\n",
    "    \n",
    "    "
   ]
  },
  {
   "cell_type": "code",
   "execution_count": 47,
   "metadata": {},
   "outputs": [],
   "source": [
    "def minValue(board):\n",
    "    v = float('inf')\n",
    "    if terminal(board):\n",
    "        return utility(board)\n",
    "\n",
    "    for action in actions(board):\n",
    "        v = min(v, maxValue(result(board, action)))\n",
    "\n",
    "    return v\n"
   ]
  },
  {
   "cell_type": "code",
   "execution_count": 39,
   "metadata": {},
   "outputs": [
    {
     "name": "stdout",
     "output_type": "stream",
     "text": [
      "X\n"
     ]
    }
   ],
   "source": [
    "if terminal(board):\n",
    "    print(\"none\")\n",
    "\n",
    "movimento = 0    \n",
    "    \n",
    "if player(board) == X:\n",
    "    for action in actions(board):\n",
    "        if movimento = 0:\n",
    "            movimento = actions(board)[0]\n",
    "        if winner(result(board,action))\n",
    "            return action\n",
    "        \n",
    "        \n",
    "        \n",
    "    #return maxValue(board)\n",
    "    #print(maxValue(board))\n",
    "    print(\"X\")\n",
    "\n",
    "if player(board) == O:\n",
    "    print(\"O\")    "
   ]
  },
  {
   "cell_type": "code",
   "execution_count": 15,
   "metadata": {},
   "outputs": [
    {
     "data": {
      "text/plain": [
       "'X'"
      ]
     },
     "execution_count": 15,
     "metadata": {},
     "output_type": "execute_result"
    }
   ],
   "source": [
    " player(board)"
   ]
  },
  {
   "cell_type": "code",
   "execution_count": 26,
   "metadata": {},
   "outputs": [
    {
     "data": {
      "text/plain": [
       "False"
      ]
     },
     "execution_count": 26,
     "metadata": {},
     "output_type": "execute_result"
    }
   ],
   "source": [
    "terminal(board)"
   ]
  },
  {
   "cell_type": "code",
   "execution_count": 27,
   "metadata": {},
   "outputs": [
    {
     "name": "stdout",
     "output_type": "stream",
     "text": [
      "[[None, None, None], [None, None, None], [None, None, None]]\n"
     ]
    }
   ],
   "source": [
    "print(board)"
   ]
  },
  {
   "cell_type": "code",
   "execution_count": 54,
   "metadata": {},
   "outputs": [],
   "source": [
    "def minimax(board):\n",
    "    \"\"\"\n",
    "    Returns the optimal action for the current player on the board.\n",
    "    \"\"\"\n",
    "    if terminal(board):\n",
    "        return None\n",
    "\n",
    "    valor = None    \n",
    "\n",
    "    if player(board) == X:\n",
    "        for action in actions(board):\n",
    "            if winner(result(board,action)):\n",
    "                return action\n",
    "            if valor == None:\n",
    "                valor = maxValue(result(board,action))\n",
    "                acao = action\n",
    "                \n",
    "            proxValor = maxValue(result(board,action))\n",
    "            if proxValor > valor:\n",
    "                valor = proxValor\n",
    "                acao = action\n",
    "        return acao\n",
    "\n",
    "\n",
    "    if player(board) == O:\n",
    "        for action in actions(board):\n",
    "            if winner(result(board,action)):\n",
    "                return action\n",
    "            if valor == None:\n",
    "                valor = minValue(result(board,action))\n",
    "                acao = action\n",
    "                \n",
    "            proxValor = minValue(result(board,action))\n",
    "            if proxValor < valor:\n",
    "                valor = proxValor\n",
    "                acao = action  \n",
    "        return acao"
   ]
  },
  {
   "cell_type": "code",
   "execution_count": 52,
   "metadata": {},
   "outputs": [
    {
     "data": {
      "text/plain": [
       "[2, 2]"
      ]
     },
     "execution_count": 52,
     "metadata": {},
     "output_type": "execute_result"
    }
   ],
   "source": [
    "minimax(board)"
   ]
  },
  {
   "cell_type": "code",
   "execution_count": null,
   "metadata": {},
   "outputs": [],
   "source": []
  },
  {
   "cell_type": "code",
   "execution_count": null,
   "metadata": {},
   "outputs": [],
   "source": []
  },
  {
   "cell_type": "code",
   "execution_count": null,
   "metadata": {},
   "outputs": [],
   "source": []
  },
  {
   "cell_type": "markdown",
   "metadata": {},
   "source": [
    "# Final"
   ]
  },
  {
   "cell_type": "code",
   "execution_count": 1,
   "metadata": {},
   "outputs": [],
   "source": [
    "\"\"\"\n",
    "Tic Tac Toe Player\n",
    "\"\"\"\n",
    "\n",
    "import math\n",
    "\n",
    "X = \"X\"\n",
    "O = \"O\"\n",
    "EMPTY = None\n",
    "\n",
    "\n",
    "def initial_state():\n",
    "    \"\"\"\n",
    "    Returns starting state of the board.\n",
    "    \"\"\"\n",
    "    return [[EMPTY, EMPTY, EMPTY],\n",
    "            [EMPTY, EMPTY, EMPTY],\n",
    "            [EMPTY, EMPTY, EMPTY]]\n",
    "\n",
    "\n",
    "def player(board):\n",
    "    \"\"\"\n",
    "    Returns player who has the next turn on a board.\n",
    "    \"\"\"\n",
    "    #flat board\n",
    "    flat_board = [i for x in board for i in x]\n",
    "    \n",
    "    if flat_board.count(O) >= flat_board.count(X):\n",
    "        return X\n",
    "    else:\n",
    "        return O\n",
    "\n",
    "\n",
    "def actions(board):\n",
    "    \"\"\"\n",
    "    Returns set of all possible actions (i, j) available on the board.\n",
    "    \"\"\"\n",
    "    action = []\n",
    "    i = 0\n",
    "    j = 0\n",
    "\n",
    "    for i in (range(len(board))):\n",
    "        for j in range(len(board[i])):\n",
    "            if board[i][j] == EMPTY:\n",
    "                action.append([i,j])\n",
    "            j += 1\n",
    "        i += 1\n",
    "    return action\n",
    "\n",
    "\n",
    "def result(board, action):\n",
    "    \"\"\"\n",
    "    Returns the board that results from making move (i, j) on the board.\n",
    "    \"\"\"\n",
    "    i = action[0]\n",
    "    j = action [1]\n",
    "    \n",
    "    if board[i][j] != EMPTY:\n",
    "        raise Exception(\"Movimento inválido\")\n",
    "        \n",
    "    new_board = copy(board)\n",
    "    new_board[i][j] = player(board)\n",
    "    return new_board\n",
    "\n",
    "def copy(board):\n",
    "    new_board =[]\n",
    "\n",
    "    i = 0\n",
    "    j = 0\n",
    "\n",
    "    for i in (range(len(board))):\n",
    "        linha = []\n",
    "        for j in range(len(board[i])):\n",
    "            linha.append(board[i][j])\n",
    "            j += 1\n",
    "        new_board.append(linha)\n",
    "        i += 1\n",
    "    \n",
    "    return  new_board\n",
    "\n",
    "def winner(board):\n",
    "    #Verify lines\n",
    "    for i in (range(len(board))):\n",
    "        if board[i][0] == board[i][1] and board[i][1] == board[i][2] and board[i][0] != EMPTY:\n",
    "            return board[i][0]\n",
    "\n",
    "    #verify column        \n",
    "    for j in (range(len(board))):\n",
    "        if board[0][j] == board[1][j] and board[1][j] == board[2][j] and board[0][j] != EMPTY:\n",
    "            return board[0][j]\n",
    "\n",
    "    #Verify Diagonal\n",
    "    if board[0][0] == board[1][1] and board[1][1] == board[2][2] and board[0][0] != EMPTY:\n",
    "        return board[0][0]\n",
    "    if board[0][2] == board[1][1] and board[1][1] == board[2][0] and board[0][2] != EMPTY:\n",
    "        return board[0][2]\n",
    "\n",
    "    return None\n",
    "\n",
    "\n",
    "def terminal(board):\n",
    "    \"\"\"\n",
    "    Returns True if game is over, False otherwise.\n",
    "    \"\"\"\n",
    "    #check if winner\n",
    "    if winner(board) != None:\n",
    "        return True\n",
    "    #check if tie   \n",
    "    return isTie(board)\n",
    "\n",
    "\n",
    "def isTie(board):\n",
    "    \n",
    "    i = 0\n",
    "    j = 0\n",
    "    n = 0\n",
    "\n",
    "\n",
    "    for i in (range(len(board))):\n",
    "        for j in range(len(board[i])):\n",
    "            if board[i][j] != None:\n",
    "                n += 1\n",
    "            j += 1\n",
    "        i += 1\n",
    "\n",
    "    if n == 9 :\n",
    "        return True\n",
    "    else:\n",
    "        return False\n",
    "    \n",
    "\n",
    "\n",
    "def utility(board):\n",
    "    \"\"\"\n",
    "    Returns 1 if X has won the game, -1 if O has won, 0 otherwise.\n",
    "    \"\"\"\n",
    "    \n",
    "    if winner(board) == X:\n",
    "        return 1\n",
    "    \n",
    "    if winner(board) == O:\n",
    "        return -1\n",
    "    \n",
    "    if isTie(board):\n",
    "        return 0\n",
    "\n",
    "\n",
    "def minimax(board):\n",
    "    \"\"\"\n",
    "    Returns the optimal action for the current player on the board.\n",
    "    \"\"\"\n",
    "    if terminal(board):\n",
    "        return None\n",
    "\n",
    "    valor = None    \n",
    "\n",
    "    if player(board) == X:\n",
    "        for action in actions(board):\n",
    "            if winner(result(board,action)):\n",
    "                return action\n",
    "            if valor == None:\n",
    "                valor = maxValue(result(board,action))\n",
    "                acao = action\n",
    "                \n",
    "            proxValor = maxValue(result(board,action))\n",
    "            if proxValor > valor:\n",
    "                valor = proxValor\n",
    "                acao = action\n",
    "        return acao\n",
    "\n",
    "\n",
    "    if player(board) == O:\n",
    "        for action in actions(board):\n",
    "            if winner(result(board,action)):\n",
    "                return action\n",
    "            if valor == None:\n",
    "                valor = minValue(result(board,action))\n",
    "                acao = action\n",
    "                \n",
    "            proxValor = minValue(result(board,action))\n",
    "            if proxValor < valor:\n",
    "                valor = proxValor\n",
    "                acao = action  \n",
    "        return acao\n",
    "\n",
    "def maxValue(board):\n",
    "    v = -float('inf')\n",
    "    if terminal(board):\n",
    "        return utility(board)\n",
    "\n",
    "    for action in actions(board):\n",
    "        v = max(v, minValue(result(board, action)))\n",
    "\n",
    "    return v\n",
    "\n",
    "def minValue(board):\n",
    "    v = float('inf')\n",
    "    if terminal(board):\n",
    "        return utility(board)\n",
    "\n",
    "    for action in actions(board):\n",
    "        v = min(v, maxValue(result(board, action)))\n",
    "\n",
    "    return v"
   ]
  },
  {
   "cell_type": "code",
   "execution_count": 55,
   "metadata": {},
   "outputs": [],
   "source": [
    "\n",
    "board = [[O, X, O],\n",
    "            [EMPTY, X, EMPTY],\n",
    "            [X, EMPTY, EMPTY]]"
   ]
  },
  {
   "cell_type": "code",
   "execution_count": 56,
   "metadata": {},
   "outputs": [
    {
     "data": {
      "text/plain": [
       "[1, 2]"
      ]
     },
     "execution_count": 56,
     "metadata": {},
     "output_type": "execute_result"
    }
   ],
   "source": [
    "minimax(board)"
   ]
  },
  {
   "cell_type": "code",
   "execution_count": null,
   "metadata": {},
   "outputs": [],
   "source": [
    "\n"
   ]
  }
 ],
 "metadata": {
  "kernelspec": {
   "display_name": "Python 3",
   "language": "python",
   "name": "python3"
  },
  "language_info": {
   "codemirror_mode": {
    "name": "ipython",
    "version": 3
   },
   "file_extension": ".py",
   "mimetype": "text/x-python",
   "name": "python",
   "nbconvert_exporter": "python",
   "pygments_lexer": "ipython3",
   "version": "3.7.4"
  }
 },
 "nbformat": 4,
 "nbformat_minor": 2
}
